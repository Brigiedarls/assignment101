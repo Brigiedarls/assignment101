{
 "cells": [
  {
   "cell_type": "code",
   "execution_count": 9,
   "id": "6d826187",
   "metadata": {},
   "outputs": [
    {
     "name": "stdout",
     "output_type": "stream",
     "text": [
      "days\n"
     ]
    },
    {
     "ename": "ValueError",
     "evalue": "invalid literal for int() with base 10: ''",
     "output_type": "error",
     "traceback": [
      "\u001b[1;31m---------------------------------------------------------------------------\u001b[0m",
      "\u001b[1;31mValueError\u001b[0m                                Traceback (most recent call last)",
      "\u001b[1;32m~\\AppData\\Local\\Temp/ipykernel_21328/3447657996.py\u001b[0m in \u001b[0;36m<module>\u001b[1;34m\u001b[0m\n\u001b[1;32m----> 1\u001b[1;33m \u001b[0mint\u001b[0m\u001b[1;33m(\u001b[0m\u001b[0minput\u001b[0m\u001b[1;33m(\u001b[0m\u001b[1;34m'days'\u001b[0m\u001b[1;33m)\u001b[0m\u001b[1;33m)\u001b[0m\u001b[1;33m\u001b[0m\u001b[1;33m\u001b[0m\u001b[0m\n\u001b[0m\u001b[0;32m      2\u001b[0m \u001b[0myear\u001b[0m\u001b[1;33m=\u001b[0m\u001b[0mdays\u001b[0m\u001b[1;33m/\u001b[0m\u001b[1;36m365\u001b[0m\u001b[1;33m\u001b[0m\u001b[1;33m\u001b[0m\u001b[0m\n\u001b[0;32m      3\u001b[0m \u001b[0mprint\u001b[0m\u001b[1;33m(\u001b[0m\u001b[0myear\u001b[0m\u001b[1;33m)\u001b[0m\u001b[1;33m\u001b[0m\u001b[1;33m\u001b[0m\u001b[0m\n",
      "\u001b[1;31mValueError\u001b[0m: invalid literal for int() with base 10: ''"
     ]
    }
   ],
   "source": [
    "int(input('days'))\n",
    "year=days/365\n",
    "print(year)"
   ]
  },
  {
   "cell_type": "code",
   "execution_count": 14,
   "id": "723cd8e5",
   "metadata": {},
   "outputs": [
    {
     "name": "stdout",
     "output_type": "stream",
     "text": [
      "days800\n",
      "2.191780821917808\n"
     ]
    }
   ],
   "source": [
    "int(input('days'))\n",
    "days=800\n",
    "years=days/365\n",
    "print(years)"
   ]
  },
  {
   "cell_type": "code",
   "execution_count": 38,
   "id": "a248f20b",
   "metadata": {},
   "outputs": [
    {
     "name": "stdout",
     "output_type": "stream",
     "text": [
      "years2.191780821917808\n",
      "2\n"
     ]
    }
   ],
   "source": [
    "float(input ('years'))\n",
    "years=2.191780821917808\n",
    "float(2.191780821917808)\n",
    "#convert float to integer\n",
    "print(int(years))"
   ]
  },
  {
   "cell_type": "code",
   "execution_count": 40,
   "id": "33e1a7a6",
   "metadata": {},
   "outputs": [
    {
     "name": "stdout",
     "output_type": "stream",
     "text": [
      "current year2022\n",
      "2072\n"
     ]
    }
   ],
   "source": [
    "prompt=('what is the current year')\n",
    "int(input('current year'))\n",
    "year=2022+50\n",
    "print(year)"
   ]
  },
  {
   "cell_type": "code",
   "execution_count": 39,
   "id": "2bee789e",
   "metadata": {},
   "outputs": [
    {
     "name": "stdout",
     "output_type": "stream",
     "text": [
      "miles1000\n",
      "1666.6666666666667\n"
     ]
    }
   ],
   "source": [
    "#convertig miles to km\n",
    "int(input('miles'))\n",
    "miles=1000\n",
    "kilometers=0.6\n",
    "kilometer=miles/0.6\n",
    "print(kilometer)"
   ]
  },
  {
   "cell_type": "code",
   "execution_count": null,
   "id": "a9e47c3b",
   "metadata": {},
   "outputs": [],
   "source": []
  }
 ],
 "metadata": {
  "kernelspec": {
   "display_name": "Python 3 (ipykernel)",
   "language": "python",
   "name": "python3"
  },
  "language_info": {
   "codemirror_mode": {
    "name": "ipython",
    "version": 3
   },
   "file_extension": ".py",
   "mimetype": "text/x-python",
   "name": "python",
   "nbconvert_exporter": "python",
   "pygments_lexer": "ipython3",
   "version": "3.9.7"
  }
 },
 "nbformat": 4,
 "nbformat_minor": 5
}
